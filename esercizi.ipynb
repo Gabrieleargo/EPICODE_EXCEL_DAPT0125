{
 "cells": [
  {
   "cell_type": "code",
   "execution_count": 3,
   "id": "d9fd4b05-4f68-4845-848d-6b9c6d031fa3",
   "metadata": {},
   "outputs": [
    {
     "name": "stdout",
     "output_type": "stream",
     "text": [
      "0\n",
      "1\n",
      "2\n",
      "3\n",
      "4\n",
      "5\n",
      "6\n",
      "7\n",
      "8\n",
      "9\n",
      "10\n",
      "11\n",
      "12\n",
      "13\n",
      "14\n",
      "15\n",
      "16\n",
      "17\n",
      "18\n",
      "19\n",
      "20\n"
     ]
    }
   ],
   "source": [
    "#es 2\n",
    "numero = 0\n",
    "while numero <= 20:\n",
    "    print(numero)\n",
    "    numero = numero + 1"
   ]
  },
  {
   "cell_type": "code",
   "execution_count": 13,
   "id": "cf0d5d9c-ff00-4c4f-a36f-99533225afc1",
   "metadata": {},
   "outputs": [
    {
     "name": "stdout",
     "output_type": "stream",
     "text": [
      "E\n",
      "p\n",
      "i\n",
      "c\n",
      "o\n",
      "d\n",
      "e\n"
     ]
    }
   ],
   "source": [
    "#es 1\n",
    "nome_scuola = \"Epicode\"\n",
    "indice = 0\n",
    "lunghezza_stringa = len(nome_scuola)\n",
    "\n",
    "while indice < lunghezza_stringa:\n",
    "    print(nome_scuola[indice])\n",
    "    indice = indice + 1"
   ]
  },
  {
   "cell_type": "code",
   "execution_count": 17,
   "id": "12595208-2531-4f79-8348-d49fb2f338d3",
   "metadata": {},
   "outputs": [
    {
     "name": "stdout",
     "output_type": "stream",
     "text": [
      "1\n",
      "2\n",
      "4\n",
      "8\n",
      "16\n",
      "32\n",
      "64\n",
      "128\n",
      "256\n",
      "512\n"
     ]
    }
   ],
   "source": [
    "#es 3\n",
    "esponente = 0\n",
    "\n",
    "while esponente < 10:\n",
    "    print(2 ** esponente)\n",
    "    esponente += 1"
   ]
  },
  {
   "cell_type": "code",
   "execution_count": 19,
   "id": "b36d7fd1-6583-4900-a803-77728d0b5812",
   "metadata": {},
   "outputs": [
    {
     "name": "stdin",
     "output_type": "stream",
     "text": [
      "Inserisci il valore di N:  3\n"
     ]
    },
    {
     "name": "stdout",
     "output_type": "stream",
     "text": [
      "1\n",
      "2\n",
      "4\n"
     ]
    }
   ],
   "source": [
    "#es 4\n",
    "N = int(input(\"Inserisci il valore di N: \"))\n",
    "esponente = 0\n",
    "\n",
    "while esponente < N:\n",
    "    print(2 ** esponente)\n",
    "    esponente += 1"
   ]
  },
  {
   "cell_type": "code",
   "execution_count": 27,
   "id": "6d8c6df5-7568-4ccf-8453-fa7263787223",
   "metadata": {},
   "outputs": [
    {
     "name": "stdout",
     "output_type": "stream",
     "text": [
      "1\n",
      "2\n",
      "4\n",
      "8\n",
      "16\n",
      "32\n",
      "64\n",
      "128\n",
      "256\n",
      "512\n",
      "1024\n",
      "2048\n",
      "4096\n",
      "8192\n",
      "16384\n"
     ]
    }
   ],
   "source": [
    "#es 5\n",
    "esponente = 0\n",
    "\n",
    "while 2 **  esponente < 25000:\n",
    "    print(2 ** esponente)\n",
    "    esponente += 1"
   ]
  },
  {
   "cell_type": "code",
   "execution_count": 29,
   "id": "a18989d5-8233-47b3-95a6-6a8549c58d0c",
   "metadata": {},
   "outputs": [
    {
     "name": "stdin",
     "output_type": "stream",
     "text": [
      "Inserisci una stringa:  pitone\n"
     ]
    },
    {
     "name": "stdout",
     "output_type": "stream",
     "text": [
      "pit...one\n"
     ]
    }
   ],
   "source": [
    "#es 6\n",
    "stringa = input(\"Inserisci una stringa: \")\n",
    "\n",
    "if len(stringa) < 6:\n",
    "    print(stringa)\n",
    "else:\n",
    "    print(stringa[:3] + \"...\" + stringa[-3:])"
   ]
  },
  {
   "cell_type": "code",
   "execution_count": 31,
   "id": "250aba69-4de7-4ade-8a64-834e4beed46f",
   "metadata": {},
   "outputs": [
    {
     "name": "stdin",
     "output_type": "stream",
     "text": [
      "Inserisci un numero intero:  120\n"
     ]
    },
    {
     "name": "stdout",
     "output_type": "stream",
     "text": [
      "Fattori primi: [2, 2, 2, 3, 5]\n"
     ]
    }
   ],
   "source": [
    "#es 7\n",
    "numero = int(input(\"Inserisci un numero intero: \"))\n",
    "fattori = []\n",
    "\n",
    "divisore = 2\n",
    "while numero > 1:\n",
    "    if numero % divisore == 0:\n",
    "        fattori.append(divisore)\n",
    "        numero = numero // divisore\n",
    "    else:\n",
    "        divisore += 1\n",
    "\n",
    "print(\"Fattori primi:\", fattori)\n"
   ]
  },
  {
   "cell_type": "code",
   "execution_count": 3,
   "id": "307ce57f-4128-4429-a15a-12fc573e625d",
   "metadata": {},
   "outputs": [
    {
     "name": "stdout",
     "output_type": "stream",
     "text": [
      "E\n",
      "p\n",
      "i\n",
      "c\n",
      "o\n",
      "d\n",
      "e\n"
     ]
    }
   ],
   "source": [
    "#es 8\n",
    "\n",
    "nome_scuola = \"Epicode\"\n",
    "\n",
    "for carattere in nome_scuola:\n",
    "    print(carattere)\n"
   ]
  },
  {
   "cell_type": "code",
   "execution_count": 9,
   "id": "28a8c248-6cd5-4dd1-8f47-b651c02b0f12",
   "metadata": {},
   "outputs": [
    {
     "name": "stdout",
     "output_type": "stream",
     "text": [
      "1\n",
      "2\n",
      "4\n",
      "8\n",
      "16\n",
      "32\n",
      "64\n",
      "128\n",
      "256\n",
      "512\n"
     ]
    }
   ],
   "source": [
    "#es 9\n",
    "\n",
    "for t in range(10):\n",
    "    print(2 ** t)\n"
   ]
  },
  {
   "cell_type": "code",
   "execution_count": 11,
   "id": "9e31c3aa-681b-45cb-8e1d-1c056e50c64b",
   "metadata": {},
   "outputs": [
    {
     "name": "stdin",
     "output_type": "stream",
     "text": [
      "Inserisci il numero di potenze N:  2\n",
      "Inserisci la base K:  9\n"
     ]
    },
    {
     "name": "stdout",
     "output_type": "stream",
     "text": [
      "[1, 9]\n"
     ]
    }
   ],
   "source": [
    "#es 10 while\n",
    "\n",
    "# Input da parte dell'utente\n",
    "N = int(input(\"Inserisci il numero di potenze N: \"))\n",
    "K = int(input(\"Inserisci la base K: \"))\n",
    "\n",
    "# Lista per memorizzare le potenze\n",
    "potenze = []\n",
    "\n",
    "# Iniziamo con i=0 e usiamo un ciclo while per calcolare le potenze\n",
    "i = 0\n",
    "while i < N:\n",
    "    potenze.append(K ** i)  # Aggiungiamo la potenza di K\n",
    "    i += 1  # Incrementiamo i per passare alla successiva potenza\n",
    "\n",
    "# Stampiamo la lista delle potenze\n",
    "print(potenze)\n"
   ]
  },
  {
   "cell_type": "code",
   "execution_count": 13,
   "id": "437fc7d6-faa1-47b4-92a3-59ef17b02ea2",
   "metadata": {},
   "outputs": [
    {
     "name": "stdin",
     "output_type": "stream",
     "text": [
      "Inserisci il numero di potenze N:  3\n",
      "Inserisci la base K:  4\n"
     ]
    },
    {
     "name": "stdout",
     "output_type": "stream",
     "text": [
      "[1, 4, 16]\n"
     ]
    }
   ],
   "source": [
    "#for\n",
    "\n",
    "# Input da parte dell'utente\n",
    "N = int(input(\"Inserisci il numero di potenze N: \"))\n",
    "K = int(input(\"Inserisci la base K: \"))\n",
    "\n",
    "# Lista per memorizzare le potenze\n",
    "potenze = []\n",
    "\n",
    "# Usiamo un ciclo for per calcolare le potenze\n",
    "for i in range(N):\n",
    "    potenze.append(K ** i)  # Aggiungiamo la potenza di K\n",
    "\n",
    "# Stampiamo la lista delle potenze\n",
    "print(potenze)\n"
   ]
  },
  {
   "cell_type": "code",
   "execution_count": 15,
   "id": "78ab8fe4-74c7-41a0-9305-147478240c12",
   "metadata": {},
   "outputs": [
    {
     "name": "stdout",
     "output_type": "stream",
     "text": [
      "La media dei guadagni è: 70.0\n"
     ]
    }
   ],
   "source": [
    "#es 11\n",
    "\n",
    "guadagni = [100, 90, 70, 40, 50, 80, 90, 120, 80, 20, 50, 50]\n",
    "\n",
    "# Inizializziamo una variabile per la somma\n",
    "somma = 0\n",
    "\n",
    "# Usiamo un ciclo for per sommare tutti i guadagni\n",
    "for guadagno in guadagni:\n",
    "    somma += guadagno\n",
    "\n",
    "# Calcoliamo la media\n",
    "media = somma / len(guadagni)\n",
    "\n",
    "# Stampiamo la media\n",
    "print(f\"La media dei guadagni è: {media}\")\n"
   ]
  },
  {
   "cell_type": "code",
   "execution_count": 17,
   "id": "9e98bd67-d2ea-4391-b64f-3546b26a2c4f",
   "metadata": {},
   "outputs": [
    {
     "name": "stdout",
     "output_type": "stream",
     "text": [
      "La lettera 'e' appare 1 volte nella parola 'Albergo'.\n",
      "La lettera 'e' appare 1 volte nella parola 'Sedia'.\n",
      "La lettera 'e' appare 0 volte nella parola 'Borgo'.\n",
      "La lettera 'e' appare 1 volte nella parola 'Petalo'.\n",
      "La lettera 'e' appare 2 volte nella parola 'Eremo'.\n",
      "La lettera 'e' appare 4 volte nella parola 'Belvedere'.\n",
      "La lettera 'e' appare 3 volte nella parola 'Semestre'.\n",
      "La lettera 'e' appare 2 volte nella parola 'Esteta'.\n",
      "La lettera 'e' appare 0 volte nella parola 'Sosta'.\n",
      "La lettera 'e' appare 1 volte nella parola 'Orpello'.\n",
      "La lettera 'e' appare 2 volte nella parola 'Abete'.\n",
      "La lettera 'e' appare 0 volte nella parola 'Orologio'.\n",
      "La lettera 'e' appare 1 volte nella parola 'Cesta'.\n",
      "La lettera 'e' appare 2 volte nella parola 'Ermellino'.\n"
     ]
    }
   ],
   "source": [
    "#es 12\n",
    "\n",
    "parole = [\"Albergo\", \"Sedia\", \"Borgo\", \"Petalo\", \"Eremo\", \"Belvedere\", \"Semestre\", \"Esteta\", \"Sosta\", \"Orpello\", \"Abete\", \"Orologio\", \"Cesta\", \"Ermellino\"]\n",
    "\n",
    "# Per ogni parola nella lista\n",
    "for parola in parole:\n",
    "    # Contiamo le occorrenze della lettera 'e' (sia maiuscola che minuscola)\n",
    "    conteggio = parola.lower().count('e')\n",
    "    print(f\"La lettera 'e' appare {conteggio} volte nella parola '{parola}'.\")\n"
   ]
  },
  {
   "cell_type": "code",
   "execution_count": 19,
   "id": "883a2b92-8c50-4c6b-b607-a6281bc5959c",
   "metadata": {},
   "outputs": [
    {
     "name": "stdout",
     "output_type": "stream",
     "text": [
      "{'Ada': 'Punto', 'Ben': 'Multipla', 'Charlie': 'Golf', 'Debbie': '107'}\n",
      "L'auto di Debbie è: 107\n"
     ]
    }
   ],
   "source": [
    "#es 13\n",
    "\n",
    "# Creiamo il dizionario\n",
    "auto_per_proprietario = {\n",
    "    \"Ada\": \"Punto\",\n",
    "    \"Ben\": \"Multipla\",\n",
    "    \"Charlie\": \"Golf\",\n",
    "    \"Debbie\": \"107\"\n",
    "}\n",
    "\n",
    "# Stampiamo l'intero dizionario\n",
    "print(auto_per_proprietario)\n",
    "\n",
    "# Stampiamo l'auto associata a Debbie\n",
    "print(f\"L'auto di Debbie è: {auto_per_proprietario['Debbie']}\")\n"
   ]
  },
  {
   "cell_type": "code",
   "execution_count": 25,
   "id": "ae177b39-330b-441b-98b2-0394fef16e44",
   "metadata": {},
   "outputs": [
    {
     "name": "stdout",
     "output_type": "stream",
     "text": [
      "Punto\n",
      "Golf\n",
      "107\n"
     ]
    }
   ],
   "source": [
    "#es 14\n",
    "\n",
    "# Dizionario con le auto dei proprietari\n",
    "dizionario_auto = {\"Ada\": \"Punto\", \"Ben\": \"Multipla\", \"Charlie\": \"Golf\", \"Debbie\": \"107\"}\n",
    "\n",
    "# Ciclo attraverso le auto usando il metodo .values()\n",
    "for auto in dizionario_auto.values():\n",
    "    if not auto == \"Multipla\":  # Se l'auto non è una \"Multipla\"\n",
    "        print(auto)\n"
   ]
  },
  {
   "cell_type": "code",
   "execution_count": 27,
   "id": "4734e487-475b-4bcb-9176-b35bad96bd28",
   "metadata": {},
   "outputs": [
    {
     "name": "stdout",
     "output_type": "stream",
     "text": [
      "{'Ada': 'Punto', 'Ben': 'Polo', 'Charlie': 'Golf', 'Debbie': '107', 'Emily': 'A1', 'Fred': 'Octavia', 'Grace': 'Yaris', 'Hugh': 'Clio'}\n"
     ]
    }
   ],
   "source": [
    "#es 15\n",
    "\n",
    "# Dizionari originali\n",
    "dizionario_auto = {\"Ada\": \"Punto\", \"Ben\": \"Multipla\", \"Charlie\": \"Golf\", \"Debbie\": \"107\", \"Emily\": \"A1\"}\n",
    "nuovi_proprietari = {\"Ben\": \"Polo\", \"Fred\": \"Octavia\", \"Grace\": \"Yaris\", \"Hugh\": \"Clio\"}\n",
    "\n",
    "# Aggiorniamo il dizionario dizionario_auto con i dati di nuovi_proprietari\n",
    "dizionario_auto.update(nuovi_proprietari)\n",
    "\n",
    "# Stampiamo il dizionario aggiornato\n",
    "print(dizionario_auto)\n",
    "\n",
    "#ben è stato inserito nei nuovi proprietari con una nuova auto\n"
   ]
  },
  {
   "cell_type": "code",
   "execution_count": null,
   "id": "b3dd936f-e9d8-4b86-a2f5-708a5eee8776",
   "metadata": {},
   "outputs": [],
   "source": []
  },
  {
   "cell_type": "code",
   "execution_count": null,
   "id": "49043a6b-780e-43be-becc-b6acf9f102f3",
   "metadata": {},
   "outputs": [],
   "source": []
  }
 ],
 "metadata": {
  "kernelspec": {
   "display_name": "Python [conda env:base] *",
   "language": "python",
   "name": "conda-base-py"
  },
  "language_info": {
   "codemirror_mode": {
    "name": "ipython",
    "version": 3
   },
   "file_extension": ".py",
   "mimetype": "text/x-python",
   "name": "python",
   "nbconvert_exporter": "python",
   "pygments_lexer": "ipython3",
   "version": "3.12.7"
  }
 },
 "nbformat": 4,
 "nbformat_minor": 5
}
